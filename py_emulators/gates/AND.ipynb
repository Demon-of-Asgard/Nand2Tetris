{
 "cells": [
  {
   "cell_type": "code",
   "execution_count": 3,
   "metadata": {},
   "outputs": [
    {
     "name": "stdout",
     "output_type": "stream",
     "text": [
      "Input A0\n",
      "Input B1\n",
      "A^B = 0\n"
     ]
    }
   ],
   "source": [
    "'''Emulate AND Gate'''\n",
    "\n",
    "def AND(A, B):\n",
    "    \n",
    "    if A==1 and B==1:\n",
    "        output = 1\n",
    "    else:\n",
    "        output = 0\n",
    "        \n",
    "    return output\n",
    "\n",
    "def main():\n",
    "    A = input(\"Input A\")\n",
    "    B = input(\"Input B\")\n",
    "    AandB = AND(A,B)\n",
    "    print(\"A^B = {}\".format(AandB))\n",
    "\n",
    "if __name__ == \"__main__\":\n",
    "    main()\n",
    "        "
   ]
  },
  {
   "cell_type": "code",
   "execution_count": null,
   "metadata": {},
   "outputs": [],
   "source": []
  }
 ],
 "metadata": {
  "kernelspec": {
   "display_name": "Python 3.7.6 64-bit ('anaconda3': virtualenv)",
   "language": "python",
   "name": "python37664bitanaconda3virtualenv06b87e2e0c7b42e282593ab2e57dedf1"
  },
  "language_info": {
   "codemirror_mode": {
    "name": "ipython",
    "version": 3
   },
   "file_extension": ".py",
   "mimetype": "text/x-python",
   "name": "python",
   "nbconvert_exporter": "python",
   "pygments_lexer": "ipython3",
   "version": "3.7.6"
  }
 },
 "nbformat": 4,
 "nbformat_minor": 4
}
