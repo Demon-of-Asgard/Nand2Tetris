{
 "cells": [
  {
   "cell_type": "code",
   "execution_count": 1,
   "metadata": {},
   "outputs": [],
   "source": [
    "import numpy as np\n",
    "from tabulate import tabulate"
   ]
  },
  {
   "cell_type": "code",
   "execution_count": 2,
   "metadata": {},
   "outputs": [],
   "source": [
    "def NAND(x,y):\n",
    "    ''' NAND Gate'''\n",
    "    \n",
    "    x = int(x)\n",
    "    y = int(y)\n",
    "    \n",
    "    if x==1 and y == 1:\n",
    "        return 0\n",
    "    else:\n",
    "        return 1"
   ]
  },
  {
   "cell_type": "code",
   "execution_count": 3,
   "metadata": {},
   "outputs": [],
   "source": [
    "def NOT(x):\n",
    "    '''NOT gate using NAND gate only'''\n",
    "    \n",
    "    x = int(x)\n",
    "    \n",
    "    not_x = NAND(x,x)\n",
    "    \n",
    "    return not_x"
   ]
  },
  {
   "cell_type": "code",
   "execution_count": 4,
   "metadata": {},
   "outputs": [],
   "source": [
    "def AND(x,y):\n",
    "    ''' AND gate using NAND gate only '''\n",
    "    \n",
    "    x = int(x)\n",
    "    y = int(y)\n",
    "    \n",
    "    x_and_y = NOT(NAND(x,y))\n",
    "    \n",
    "    return x_and_y"
   ]
  },
  {
   "cell_type": "code",
   "execution_count": 5,
   "metadata": {},
   "outputs": [],
   "source": [
    "def OR(x,y):\n",
    "    ''' OR Gate'''\n",
    "    \n",
    "    x = int(x)\n",
    "    y = int(y)\n",
    "    \n",
    "    x_or_y = NOT(AND(NOT(x),NOT(y)))\n",
    "    \n",
    "    return x_or_y"
   ]
  },
  {
   "cell_type": "code",
   "execution_count": 6,
   "metadata": {},
   "outputs": [],
   "source": [
    "def XOR(x,y):\n",
    "    ''' XOR gate'''\n",
    "    \n",
    "    x = int(x)\n",
    "    y = int(y)\n",
    "    \n",
    "    x_xor_y = OR(AND(NOT(x),y), AND(x,NOT(y)))\n",
    "    \n",
    "    return x_xor_y"
   ]
  },
  {
   "cell_type": "code",
   "execution_count": 7,
   "metadata": {},
   "outputs": [],
   "source": [
    "#======================================================================================================="
   ]
  },
  {
   "cell_type": "code",
   "execution_count": 8,
   "metadata": {},
   "outputs": [],
   "source": [
    "def table_nand():\n",
    "    xs = [0,1]\n",
    "    ys = [0,1]\n",
    "    \n",
    "    nand_str = \"NAND\"\n",
    "    xs_nand_ys = []\n",
    "    \n",
    "    nand_header = [\"x\", \"y\", \"x NAND y\"]\n",
    "    \n",
    "    for x in xs:\n",
    "        for y in ys:\n",
    "            xs_nand_ys.append((x,y,NAND(x,y)))\n",
    "        \n",
    "    t = tabulate(xs_nand_ys, headers = nand_header, tablefmt = \"grid\")\n",
    "    print(\"\\n{}\\n\".format(nand_str))\n",
    "    print(t)"
   ]
  },
  {
   "cell_type": "code",
   "execution_count": 9,
   "metadata": {},
   "outputs": [],
   "source": [
    "def table_not():\n",
    "    xs = [0,1]\n",
    "    ys = [0,1]\n",
    "    \n",
    "    not_str = \"NOT(x) = NAND(x,x)\"\n",
    "    not_xs = []\n",
    "    \n",
    "    not_header = [\"x\", \"NOT x\"]\n",
    "    \n",
    "    for x in xs:\n",
    "        not_xs.append((x,NOT(x)))\n",
    "        \n",
    "    t = tabulate(not_xs, headers = not_header, tablefmt = \"grid\")\n",
    "    print(\"\\n{}\\n\".format(not_str))\n",
    "    print(t)"
   ]
  },
  {
   "cell_type": "code",
   "execution_count": 10,
   "metadata": {},
   "outputs": [],
   "source": [
    "def table_and():\n",
    "    xs = [0,1]\n",
    "    ys = [0,1]\n",
    "    \n",
    "    and_str = \"AND(x,y) = NOT(NAND(x,y))\"\n",
    "    xs_and_ys = []\n",
    "    \n",
    "    and_header = [\"x\", \"y\", \"x AND y\"]\n",
    "    \n",
    "    for x in xs:\n",
    "        for y in ys:\n",
    "            xs_and_ys.append((x,y,AND(x,y)))\n",
    "        \n",
    "    t = tabulate(xs_and_ys, headers = and_header, tablefmt = \"grid\")\n",
    "    print(\"\\n{}\\n\".format(and_str))\n",
    "    print(t)"
   ]
  },
  {
   "cell_type": "code",
   "execution_count": 11,
   "metadata": {},
   "outputs": [],
   "source": [
    "def table_or():\n",
    "    '''x OR y = NOT(NOT(x) AND NOT(y))'''\n",
    "    \n",
    "    xs = [0,1]\n",
    "    ys = [0,1]\n",
    "    \n",
    "    or_str = \"x OR y = NOT(NOT(x) AND NOT(y))\"\n",
    "    xs_or_ys = []\n",
    "    or_header = [\"x\", \"y\", \"x OR y\"]\n",
    "    \n",
    "    for x in xs:\n",
    "        for y in ys:\n",
    "            xs_or_ys.append((x,y,OR(x,y)))\n",
    "    \n",
    "    t = tabulate(xs_or_ys, headers = or_header, tablefmt = \"grid\")\n",
    "    print(\"\\n{}\\n\".format(or_str))\n",
    "    print(t)"
   ]
  },
  {
   "cell_type": "code",
   "execution_count": 12,
   "metadata": {},
   "outputs": [],
   "source": [
    "def table_xor():\n",
    "    '''x OR y = NOT(NOT(x) AND NOT(y))'''\n",
    "    \n",
    "    xs = [0,1]\n",
    "    ys = [0,1]\n",
    "    \n",
    "    xor_str = \"x XOR y = (NOT(x) AND y) OR (x AND NOT(y))\"\n",
    "    xs_xor_ys = []\n",
    "    xor_header = [\"x\", \"y\", \"x XOR y\"]\n",
    "    \n",
    "    for x in xs:\n",
    "        for y in ys:\n",
    "            xs_xor_ys.append((x,y,XOR(x,y)))\n",
    "    \n",
    "    t = tabulate(xs_xor_ys, headers = xor_header, tablefmt = \"grid\")\n",
    "    print(\"\\n{}\\n\".format(xor_str))\n",
    "    print(t)"
   ]
  },
  {
   "cell_type": "code",
   "execution_count": 13,
   "metadata": {},
   "outputs": [],
   "source": [
    "def main():\n",
    "    table_nand()\n",
    "    table_not()\n",
    "    table_and()\n",
    "    table_or()\n",
    "    table_xor()"
   ]
  },
  {
   "cell_type": "code",
   "execution_count": 14,
   "metadata": {},
   "outputs": [
    {
     "name": "stdout",
     "output_type": "stream",
     "text": [
      "\n",
      "NAND\n",
      "\n",
      "+-----+-----+------------+\n",
      "|   x |   y |   x NAND y |\n",
      "+=====+=====+============+\n",
      "|   0 |   0 |          1 |\n",
      "+-----+-----+------------+\n",
      "|   0 |   1 |          1 |\n",
      "+-----+-----+------------+\n",
      "|   1 |   0 |          1 |\n",
      "+-----+-----+------------+\n",
      "|   1 |   1 |          0 |\n",
      "+-----+-----+------------+\n",
      "\n",
      "NOT(x) = NAND(x,x)\n",
      "\n",
      "+-----+---------+\n",
      "|   x |   NOT x |\n",
      "+=====+=========+\n",
      "|   0 |       1 |\n",
      "+-----+---------+\n",
      "|   1 |       0 |\n",
      "+-----+---------+\n",
      "\n",
      "AND(x,y) = NOT(NAND(x,y))\n",
      "\n",
      "+-----+-----+-----------+\n",
      "|   x |   y |   x AND y |\n",
      "+=====+=====+===========+\n",
      "|   0 |   0 |         0 |\n",
      "+-----+-----+-----------+\n",
      "|   0 |   1 |         0 |\n",
      "+-----+-----+-----------+\n",
      "|   1 |   0 |         0 |\n",
      "+-----+-----+-----------+\n",
      "|   1 |   1 |         1 |\n",
      "+-----+-----+-----------+\n",
      "\n",
      "x OR y = NOT(NOT(x) AND NOT(y))\n",
      "\n",
      "+-----+-----+----------+\n",
      "|   x |   y |   x OR y |\n",
      "+=====+=====+==========+\n",
      "|   0 |   0 |        0 |\n",
      "+-----+-----+----------+\n",
      "|   0 |   1 |        1 |\n",
      "+-----+-----+----------+\n",
      "|   1 |   0 |        1 |\n",
      "+-----+-----+----------+\n",
      "|   1 |   1 |        1 |\n",
      "+-----+-----+----------+\n",
      "\n",
      "x XOR y = (NOT(x) AND y) OR (x AND NOT(y))\n",
      "\n",
      "+-----+-----+-----------+\n",
      "|   x |   y |   x XOR y |\n",
      "+=====+=====+===========+\n",
      "|   0 |   0 |         0 |\n",
      "+-----+-----+-----------+\n",
      "|   0 |   1 |         1 |\n",
      "+-----+-----+-----------+\n",
      "|   1 |   0 |         1 |\n",
      "+-----+-----+-----------+\n",
      "|   1 |   1 |         0 |\n",
      "+-----+-----+-----------+\n"
     ]
    }
   ],
   "source": [
    "if __name__ == \"__main__\":\n",
    "    main()"
   ]
  },
  {
   "cell_type": "code",
   "execution_count": null,
   "metadata": {},
   "outputs": [],
   "source": []
  }
 ],
 "metadata": {
  "kernelspec": {
   "display_name": "Python 3.7.6 64-bit ('anaconda3': virtualenv)",
   "language": "python",
   "name": "python37664bitanaconda3virtualenv06b87e2e0c7b42e282593ab2e57dedf1"
  },
  "language_info": {
   "codemirror_mode": {
    "name": "ipython",
    "version": 3
   },
   "file_extension": ".py",
   "mimetype": "text/x-python",
   "name": "python",
   "nbconvert_exporter": "python",
   "pygments_lexer": "ipython3",
   "version": "3.7.6"
  }
 },
 "nbformat": 4,
 "nbformat_minor": 4
}
