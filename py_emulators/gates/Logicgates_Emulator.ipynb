{
 "cells": [
  {
   "cell_type": "code",
   "execution_count": 13,
   "metadata": {},
   "outputs": [
    {
     "name": "stdout",
     "output_type": "stream",
     "text": [
      "\n",
      "f(x,y,z) = (x AND y) OR (NOT(x) AND y)\n",
      "\n",
      "+-----+-----+-----+------------+\n",
      "|   x |   y |   z |   f(x,y,z) |\n",
      "+=====+=====+=====+============+\n",
      "|   0 |   0 |   0 |          0 |\n",
      "+-----+-----+-----+------------+\n",
      "|   0 |   0 |   1 |          1 |\n",
      "+-----+-----+-----+------------+\n",
      "|   0 |   1 |   0 |          0 |\n",
      "+-----+-----+-----+------------+\n",
      "|   0 |   1 |   1 |          1 |\n",
      "+-----+-----+-----+------------+\n",
      "|   1 |   0 |   0 |          0 |\n",
      "+-----+-----+-----+------------+\n",
      "|   1 |   0 |   1 |          0 |\n",
      "+-----+-----+-----+------------+\n",
      "|   1 |   1 |   0 |          1 |\n",
      "+-----+-----+-----+------------+\n",
      "|   1 |   1 |   1 |          1 |\n",
      "+-----+-----+-----+------------+\n"
     ]
    }
   ],
   "source": [
    "'''Emulate AND Gate'''\n",
    "import numpy as np \n",
    "from tabulate import tabulate\n",
    "\n",
    "def AND(A, B):\n",
    "    \n",
    "    A = int(A)\n",
    "    B = int(B)\n",
    "    \n",
    "    if A==1 and B==1:\n",
    "        return 1\n",
    "    else:\n",
    "        return 0\n",
    "        \n",
    "def OR(A, B):\n",
    "    \n",
    "    A = int(A)\n",
    "    B = int(B)\n",
    "    \n",
    "    if A==1 or B==1:\n",
    "        return 1\n",
    "    else:\n",
    "        return 0\n",
    "    \n",
    "def NOT(A):\n",
    "    \n",
    "    A = int(A)\n",
    "    \n",
    "    if A==1:\n",
    "        return 0\n",
    "    else:\n",
    "        return 1\n",
    "\n",
    "def f(x,y,z):\n",
    "    '''f = (x AND y) OR (NOT(x) AND y)'''\n",
    "    f = OR(AND(x,y), AND(NOT(x),z))\n",
    "    return f\n",
    "\n",
    "def main():\n",
    "    f_str = \"(x AND y) OR (NOT(x) AND y)\"\n",
    "    xs = np.array([0,1])\n",
    "    ys = np.array([0,1])\n",
    "    zs = np.array([0,1])\n",
    "    \n",
    "    header = [\"x\", \"y\", \"z\", \"f(x,y,z)\"]\n",
    "    output  = []\n",
    "          \n",
    "    for x in xs:\n",
    "        for y in ys:\n",
    "            for z in zs:\n",
    "                output.append((x,y,z,f(x,y,z)))\n",
    "                \n",
    "    \n",
    "    print(\"\\nf(x,y,z) = {}\\n\".format(f_str))            \n",
    "    print(tabulate(output, headers = header, tablefmt=\"grid\"))\n",
    "                \n",
    "    \n",
    "\n",
    "if __name__ == \"__main__\":\n",
    "    main()\n",
    "        "
   ]
  },
  {
   "cell_type": "code",
   "execution_count": null,
   "metadata": {},
   "outputs": [],
   "source": []
  },
  {
   "cell_type": "code",
   "execution_count": null,
   "metadata": {},
   "outputs": [],
   "source": []
  }
 ],
 "metadata": {
  "kernelspec": {
   "display_name": "Python 3.7.6 64-bit ('anaconda3': virtualenv)",
   "language": "python",
   "name": "python37664bitanaconda3virtualenv06b87e2e0c7b42e282593ab2e57dedf1"
  },
  "language_info": {
   "codemirror_mode": {
    "name": "ipython",
    "version": 3
   },
   "file_extension": ".py",
   "mimetype": "text/x-python",
   "name": "python",
   "nbconvert_exporter": "python",
   "pygments_lexer": "ipython3",
   "version": "3.7.6"
  }
 },
 "nbformat": 4,
 "nbformat_minor": 4
}
